{
 "cells": [
  {
   "cell_type": "code",
   "execution_count": 2,
   "metadata": {},
   "outputs": [],
   "source": [
    "import fastf1 as ff1\n",
    "from fastf1 import plotting\n",
    "from matplotlib import pyplot as plt\n",
    "from matplotlib.pyplot import figure\n",
    "from matplotlib.collections import LineCollection\n",
    "from matplotlib import cm\n",
    "import numpy as np\n",
    "import pandas as pd\n"
   ]
  },
  {
   "cell_type": "code",
   "execution_count": 6,
   "metadata": {},
   "outputs": [
    {
     "name": "stderr",
     "output_type": "stream",
     "text": [
      "c:\\Users\\aviha\\anaconda3\\Lib\\site-packages\\fastf1\\plotting\\_plotting.py:90: FutureWarning: FastF1 will no longer silently modify the default Matplotlib colors in the future.\n",
      "To remove this warning, explicitly set `color_scheme=None` or `color_scheme='fastf1'` when calling `.setup_mpl()`.\n",
      "  warnings.warn(\n",
      "c:\\Users\\aviha\\anaconda3\\Lib\\site-packages\\fastf1\\plotting\\_plotting.py:98: FutureWarning: FastF1 will stop modifying the default Matplotlib settings in the future.\n",
      "To opt-in to the new behaviour and remove this warning, explicitly set `misc_mpl_mods=False` when calling `.setup_mpl()`.\n",
      "  warnings.warn(\n"
     ]
    }
   ],
   "source": [
    "# Enable the cache\n",
    "ff1.Cache.enable_cache('C:/Users/aviha/Desktop/f1_data_project/2021 Abu Dhabi GP Minisector Comparison/cache')\n",
    "\n",
    "# Setup plotting\n",
    "plotting.setup_mpl()"
   ]
  },
  {
   "cell_type": "markdown",
   "metadata": {},
   "source": [
    "# Collecting the data"
   ]
  },
  {
   "cell_type": "code",
   "execution_count": 23,
   "metadata": {},
   "outputs": [
    {
     "name": "stderr",
     "output_type": "stream",
     "text": [
      "core           INFO \tLoading data for Abu Dhabi Grand Prix - Qualifying [v3.4.0]\n",
      "req            INFO \tUsing cached data for session_info\n",
      "req            INFO \tUsing cached data for driver_info\n",
      "req            INFO \tUsing cached data for session_status_data\n",
      "req            INFO \tUsing cached data for track_status_data\n",
      "req            INFO \tUsing cached data for _extended_timing_data\n",
      "req            INFO \tUsing cached data for timing_app_data\n",
      "core           INFO \tProcessing timing data...\n",
      "core        WARNING \tDriver 22: Lap timing integrity check failed for 1 lap(s)\n",
      "core        WARNING \tDriver  3: Lap timing integrity check failed for 1 lap(s)\n",
      "core        WARNING \tDriver 18: Lap timing integrity check failed for 1 lap(s)\n",
      "req            INFO \tUsing cached data for car_data\n",
      "req            INFO \tUsing cached data for position_data\n",
      "req            INFO \tUsing cached data for weather_data\n",
      "req            INFO \tUsing cached data for race_control_messages\n",
      "core           INFO \tFinished loading data for 20 drivers: ['33', '44', '4', '11', '55', '77', '16', '22', '31', '3', '14', '10', '18', '99', '5', '6', '63', '7', '47', '9']\n"
     ]
    }
   ],
   "source": [
    "# Load the session data\n",
    "quali = ff1.get_session(2021, 'Abu Dhabi', 'Q')\n",
    "\n",
    "# Load all available data for the session\n",
    "quali.load()\n",
    "\n",
    "# Now, access the laps data\n",
    "laps = quali.laps"
   ]
  },
  {
   "cell_type": "code",
   "execution_count": 45,
   "metadata": {},
   "outputs": [
    {
     "name": "stdout",
     "output_type": "stream",
     "text": [
      "all the available methods and attributes of the quali object: \n",
      "=> private methods :\n",
      "['_QUALI_LIKE_SESSIONS', '_RACE_LIKE_SESSIONS', '_Session__fix_tyre_info', '__class__', '__delattr__', '__dict__', '__dir__', '__doc__', '__eq__', '__format__', '__ge__', '__getattribute__', '__getstate__', '__gt__', '__hash__', '__init__', '__init_subclass__', '__le__', '__lt__', '__module__', '__ne__', '__new__', '__reduce__', '__reduce_ex__', '__repr__', '__setattr__', '__sizeof__', '__str__', '__subclasshook__', '__weakref__', '_add_first_lap_time_from_ergast', '_add_track_status_to_laps', '_calculate_quali_like_session_results', '_calculate_t0_date', '_car_data', '_check_lap_accuracy', '_drivers_from_f1_api', '_drivers_results_from_ergast', '_ergast', '_fix_missing_laps_retired_on_track', '_get_property_warn_not_loaded', '_laps', '_load_drivers_results', '_load_laps_data', '_load_race_control_messages', '_load_session_info', '_load_session_status_data', '_load_telemetry', '_load_total_lap_count', '_load_track_status_data', '_load_weather_data', '_pos_data', '_race_control_messages', '_results', '_session_info', '_session_split_times', '_session_start_time', '_session_status', '_set_laps_deleted_from_rcm', '_t0_date', '_total_laps', '_track_status', '_weather_data']\n",
      "=> public methods :\n",
      "['api_path', 'car_data', 'date', 'drivers', 'event', 'f1_api_support', 'get_circuit_info', 'get_driver', 'laps', 'load', 'name', 'pos_data', 'race_control_messages', 'results', 'session_info', 'session_start_time', 'session_status', 't0_date', 'total_laps', 'track_status', 'weather_data']\n"
     ]
    }
   ],
   "source": [
    "print('all the available methods and attributes of the quali object: ')\n",
    "list_of_methods = dir(quali)\n",
    "private_methods = []\n",
    "public_methods = []\n",
    "for method in list_of_methods:\n",
    "    if method[0] == '_':\n",
    "        private_methods.append(method)\n",
    "    else :\n",
    "        public_methods.append(method)\n",
    "print('=> private methods :')\n",
    "print(private_methods)\n",
    "print('=> public methods :')\n",
    "print(public_methods)"
   ]
  },
  {
   "cell_type": "code",
   "execution_count": 31,
   "metadata": {},
   "outputs": [
    {
     "name": "stdout",
     "output_type": "stream",
     "text": [
      "Index(['Time', 'Driver', 'DriverNumber', 'LapTime', 'LapNumber', 'Stint',\n",
      "       'PitOutTime', 'PitInTime', 'Sector1Time', 'Sector2Time', 'Sector3Time',\n",
      "       'Sector1SessionTime', 'Sector2SessionTime', 'Sector3SessionTime',\n",
      "       'SpeedI1', 'SpeedI2', 'SpeedFL', 'SpeedST', 'IsPersonalBest',\n",
      "       'Compound', 'TyreLife', 'FreshTyre', 'Team', 'LapStartTime',\n",
      "       'LapStartDate', 'TrackStatus', 'Position', 'Deleted', 'DeletedReason',\n",
      "       'FastF1Generated', 'IsAccurate'],\n",
      "      dtype='object')\n",
      "(328, 31)\n",
      "10168\n"
     ]
    }
   ],
   "source": [
    "print(laps.columns)\n",
    "print(laps.shape)\n",
    "print(laps.size)"
   ]
  },
  {
   "cell_type": "code",
   "execution_count": 42,
   "metadata": {},
   "outputs": [
    {
     "name": "stdout",
     "output_type": "stream",
     "text": [
      "20 Drivers:\n",
      "['VER' 'HAM' 'NOR' 'PER' 'SAI' 'BOT' 'LEC' 'TSU' 'OCO' 'RIC' 'ALO' 'GAS'\n",
      " 'STR' 'GIO' 'VET' 'LAT' 'RUS' 'RAI' 'MSC' 'MAZ']\n",
      "\n",
      "\n",
      "10 Teams:\n",
      "['Red Bull Racing' 'Mercedes' 'McLaren' 'Ferrari' 'AlphaTauri' 'Alpine'\n",
      " 'Aston Martin' 'Alfa Romeo Racing' 'Williams' 'Haas F1 Team']\n"
     ]
    }
   ],
   "source": [
    "print(str(len(laps['Driver'].unique())) + ' Drivers:')\n",
    "print(laps['Driver'].unique())\n",
    "print('\\n')\n",
    "print(str(len(laps['Team'].unique())) + ' Teams:')\n",
    "print(laps['Team'].unique())"
   ]
  },
  {
   "cell_type": "markdown",
   "metadata": {},
   "source": [
    "# Processing the data"
   ]
  },
  {
   "cell_type": "code",
   "execution_count": 67,
   "metadata": {},
   "outputs": [
    {
     "name": "stdout",
     "output_type": "stream",
     "text": [
      "laps_ver.shape : (19, 31)\n",
      "31 laps_ver.columns : \n",
      "Index(['Time', 'Driver', 'DriverNumber', 'LapTime', 'LapNumber', 'Stint',\n",
      "       'PitOutTime', 'PitInTime', 'Sector1Time', 'Sector2Time', 'Sector3Time',\n",
      "       'Sector1SessionTime', 'Sector2SessionTime', 'Sector3SessionTime',\n",
      "       'SpeedI1', 'SpeedI2', 'SpeedFL', 'SpeedST', 'IsPersonalBest',\n",
      "       'Compound', 'TyreLife', 'FreshTyre', 'Team', 'LapStartTime',\n",
      "       'LapStartDate', 'TrackStatus', 'Position', 'Deleted', 'DeletedReason',\n",
      "       'FastF1Generated', 'IsAccurate'],\n",
      "      dtype='object')\n",
      "\n",
      "\n"
     ]
    },
    {
     "name": "stderr",
     "output_type": "stream",
     "text": [
      "core        WARNING \tFailed to preserve data type for column 'X' while merging telemetry.\n",
      "core        WARNING \tFailed to preserve data type for column 'Y' while merging telemetry.\n",
      "core        WARNING \tFailed to preserve data type for column 'Z' while merging telemetry.\n"
     ]
    },
    {
     "name": "stdout",
     "output_type": "stream",
     "text": [
      "\n",
      "\n",
      "fastest_ver.shape : (719, 19)\n",
      "19 fastest_ver.columns : \n",
      "Index(['Date', 'SessionTime', 'DriverAhead', 'DistanceToDriverAhead', 'Time',\n",
      "       'RPM', 'Speed', 'nGear', 'Throttle', 'Brake', 'DRS', 'Source',\n",
      "       'RelativeDistance', 'Status', 'X', 'Y', 'Z', 'Distance', 'Driver'],\n",
      "      dtype='object')\n",
      "\n",
      "\n",
      "['VER' 'HAM']\n",
      "telemetry.shape : (1439, 19)\n",
      "19 telemetry.columns : \n",
      "Index(['Date', 'SessionTime', 'DriverAhead', 'DistanceToDriverAhead', 'Time',\n",
      "       'RPM', 'Speed', 'nGear', 'Throttle', 'Brake', 'DRS', 'Source',\n",
      "       'RelativeDistance', 'Status', 'X', 'Y', 'Z', 'Distance', 'Driver'],\n",
      "      dtype='object')\n"
     ]
    }
   ],
   "source": [
    "# Select the laps from hamilton and Verstappen\n",
    "laps_ver = laps.pick_driver('VER')\n",
    "laps_ham = laps.pick_driver('HAM')\n",
    "print('laps_ver.shape : ' + str(laps_ver.shape))\n",
    "print(str(len(laps_ver.columns)) + ' laps_ver.columns : ' + '\\n' + str(laps_ver.columns))\n",
    "print('\\n')\n",
    "\n",
    "# Get the telemetry data from their fastest lap\n",
    "fastest_ver = laps_ver.pick_fastest().get_telemetry().add_distance()\n",
    "fastest_ham = laps_ham.pick_fastest().get_telemetry().add_distance()\n",
    "\n",
    "# Since the telemetry data does not have a variable that indicates the driver,\n",
    "# we neet to create that column\n",
    "fastest_ver['Driver'] = 'VER'\n",
    "fastest_ham['Driver'] = 'HAM'\n",
    "print('\\n')\n",
    "print('fastest_ver.shape : ' + str(fastest_ver.shape))\n",
    "print(str(len(fastest_ver.columns)) + ' fastest_ver.columns : ' + '\\n' + str(fastest_ver.columns))\n",
    "print('\\n')\n",
    "\n",
    "# Merge both lap telemetry so we have everything in one Dataframe\n",
    "telemetry = pd.concat([fastest_ver, fastest_ham], ignore_index=True)\n",
    "print(telemetry['Driver'].unique())\n",
    "print('telemetry.shape : ' + str(telemetry.shape))\n",
    "print(str(len(telemetry.columns)) + ' telemetry.columns : ' + '\\n' + str(telemetry.columns))"
   ]
  },
  {
   "cell_type": "markdown",
   "metadata": {},
   "source": [
    "## Creating minisectors"
   ]
  },
  {
   "cell_type": "code",
   "execution_count": 69,
   "metadata": {},
   "outputs": [
    {
     "name": "stdout",
     "output_type": "stream",
     "text": [
      "5228.621388888891\n",
      "209.14485555555564\n"
     ]
    }
   ],
   "source": [
    "# We want 25 mini sectors (this can be adjusted up and down)\n",
    "num_minisector = 25\n",
    "\n",
    "# Grab the maximum value of distance that is known in the telemetry\n",
    "total_distance = max(telemetry['Distance'])\n",
    "print(total_distance)\n",
    "\n",
    "# Generate equally sized mini sectors\n",
    "minisector_length = total_distance / num_minisector\n",
    "print(minisector_length)"
   ]
  },
  {
   "cell_type": "code",
   "execution_count": 71,
   "metadata": {},
   "outputs": [
    {
     "name": "stdout",
     "output_type": "stream",
     "text": [
      "[0, 209.14485555555564, 418.2897111111113, 627.4345666666669, 836.5794222222225, 1045.7242777777783, 1254.8691333333338, 1464.0139888888893, 1673.158844444445, 1882.3037000000008, 2091.4485555555566, 2300.593411111112, 2509.7382666666676, 2718.8831222222234, 2928.0279777777787, 3137.1728333333344, 3346.31768888889, 3555.462544444446, 3764.6074000000017, 3973.752255555557, 4182.897111111113, 4392.0419666666685, 4601.186822222224, 4810.33167777778, 5019.476533333335]\n"
     ]
    }
   ],
   "source": [
    "# Initiate minisector variable, with 0 meters as strating point\n",
    "minisectors = [0]\n",
    "\n",
    "# Add multiples of minisector_length to the minisectors\n",
    "for i in range(0, (num_minisector - 1)):\n",
    "    minisectors.append(minisector_length * (i + 1))\n",
    "\n",
    "print(minisectors)"
   ]
  },
  {
   "cell_type": "code",
   "execution_count": 74,
   "metadata": {},
   "outputs": [],
   "source": [
    "# we want to assign every row that exists in the dataset a minisector. In other words, in which minisector was the car at the moment the datapoint was recorded?\n",
    "\n",
    "telemetry['Minisector'] = telemetry['Distance'].apply(\n",
    "    lambda dist: (\n",
    "        int((dist // minisector_length) + 1)\n",
    "    )\n",
    ")"
   ]
  },
  {
   "cell_type": "markdown",
   "metadata": {},
   "source": [
    "## Calculate fastest driver per mini sector"
   ]
  },
  {
   "cell_type": "code",
   "execution_count": 77,
   "metadata": {},
   "outputs": [
    {
     "name": "stdout",
     "output_type": "stream",
     "text": [
      "    Minisector Driver       Speed\n",
      "0            1    HAM  260.615385\n",
      "1            1    VER  260.461538\n",
      "2            2    HAM  233.035714\n",
      "3            2    VER  236.482759\n",
      "4            3    HAM  219.600000\n",
      "5            3    VER  216.766667\n",
      "6            4    HAM  265.080000\n",
      "7            4    VER  265.080000\n",
      "8            5    HAM  279.173913\n",
      "9            5    VER  279.869565\n",
      "10           6    HAM  293.652174\n",
      "11           6    VER  294.869565\n",
      "12           7    HAM  172.684211\n",
      "13           7    VER  172.026316\n",
      "14           8    HAM  199.303030\n",
      "15           8    VER  198.843750\n",
      "16           9    HAM  275.826087\n",
      "17           9    VER  276.458333\n",
      "18          10    HAM  303.095238\n",
      "19          10    VER  304.904762\n",
      "20          11    HAM  314.333333\n",
      "21          11    VER  317.700000\n",
      "22          12    HAM  319.428571\n",
      "23          12    VER  323.761905\n",
      "24          13    HAM  126.129630\n",
      "25          13    VER  123.203704\n",
      "26          14    HAM  204.781250\n",
      "27          14    VER  202.333333\n",
      "28          15    HAM  280.086957\n",
      "29          15    VER  280.826087\n",
      "30          16    HAM  305.333333\n",
      "31          16    VER  309.714286\n",
      "32          17    HAM  315.095238\n",
      "33          17    VER  320.952381\n",
      "34          18    HAM  211.225806\n",
      "35          18    VER  203.093750\n",
      "36          19    HAM  236.034483\n",
      "37          19    VER  237.000000\n",
      "38          20    HAM  276.260870\n",
      "39          20    VER  276.640000\n",
      "40          21    HAM  165.800000\n",
      "41          21    VER  158.850000\n",
      "42          22    HAM  158.365854\n",
      "43          22    VER  162.902439\n",
      "44          23    HAM  231.206897\n",
      "45          23    VER  236.785714\n",
      "46          24    HAM  251.160000\n",
      "47          24    VER  239.555556\n",
      "48          25    HAM  173.333333\n",
      "49          25    VER  176.542857\n"
     ]
    }
   ],
   "source": [
    "# Calculate avg speed per driver per mini sector\n",
    "average_speed = telemetry.groupby(['Minisector', 'Driver'])['Speed'].mean().reset_index()\n",
    "print(average_speed)"
   ]
  },
  {
   "cell_type": "code",
   "execution_count": 89,
   "metadata": {},
   "outputs": [
    {
     "name": "stdout",
     "output_type": "stream",
     "text": [
      "   Minisector Driver       Speed\n",
      "0           1    HAM  260.615385\n",
      "3           2    VER  236.482759\n",
      "4           3    HAM  219.600000\n",
      "6           4    HAM  265.080000\n",
      "9           5    VER  279.869565\n",
      "...\n",
      "\n",
      "\n",
      "   Minisector Fastest_driver\n",
      "0           1            HAM\n",
      "3           2            VER\n",
      "4           3            HAM\n",
      "6           4            HAM\n",
      "9           5            VER\n",
      "...\n"
     ]
    }
   ],
   "source": [
    "# Se;ect the driver with the hightest average speed per minisector\n",
    "fastest_driver = average_speed.loc[average_speed.groupby(['Minisector'])['Speed'].idxmax()]\n",
    "print(average_speed.loc[average_speed.groupby(['Minisector'])['Speed'].idxmax()].head())\n",
    "print('...')\n",
    "\n",
    "# Get rid of the speed column and rename the driver column\n",
    "fastest_driver = fastest_driver[['Minisector', 'Driver']].rename(columns={'Driver': 'Fastest_driver'})\n",
    "print('\\n')\n",
    "print(fastest_driver.head())\n",
    "print('...')"
   ]
  },
  {
   "cell_type": "code",
   "execution_count": 90,
   "metadata": {},
   "outputs": [],
   "source": [
    "'''\n",
    "The only remaining thing we need to do is to join the fastest driver per minisector with the full telemetry data, so that we can easily plot all the data later. In addition, we need to make sure that the Distance is properly sorted. Last, but not least, we need to convert the driver abbreviation (e.g. “HAM”) to an integer value, since otherwise matplotlib won’t be able to deal with it.\n",
    "'''\n",
    "\n",
    "# Join the fastest driver per minisector with the full telemetry\n",
    "# This merges the telemetry DataFrame with the fastest_driver DataFrame based on the 'Minisector' column\n",
    "telemetry = telemetry.merge(fastest_driver, on=['Minisector'])\n",
    "\n",
    "# Order the data by distance to make matplotlib does not get confused\n",
    "# Sorting the telemetry DataFrame by the 'Distance' column ensures that the data is in the correct order for plotting\n",
    "telemetry = telemetry.sort_values(by=['Distance'])\n",
    "\n",
    "# Convert driver name to integer\n",
    "# Here, we create a new column 'Fastest_driver_int' to hold integer values for each driver\n",
    "# Assign integer value 1 for driver 'VER' (Verstappen)\n",
    "telemetry.loc[telemetry['Fastest_driver'] == 'VER', 'Fastest_driver_int'] = 1\n",
    "# Assign integer value 2 for driver 'HAM' (Hamilton)\n",
    "telemetry.loc[telemetry['Fastest_driver'] == 'HAM', 'Fastest_driver_int'] = 2"
   ]
  },
  {
   "cell_type": "markdown",
   "metadata": {},
   "source": [
    "# Plotting the data"
   ]
  },
  {
   "cell_type": "code",
   "execution_count": 101,
   "metadata": {},
   "outputs": [
    {
     "name": "stderr",
     "output_type": "stream",
     "text": [
      "C:\\Users\\aviha\\AppData\\Local\\Temp\\ipykernel_44588\\1322113706.py:20: MatplotlibDeprecationWarning: The get_cmap function was deprecated in Matplotlib 3.7 and will be removed in 3.11. Use ``matplotlib.colormaps[name]`` or ``matplotlib.colormaps.get_cmap()`` or ``pyplot.get_cmap()`` instead.\n",
      "  cmap = cm.get_cmap('winter', 2)  # Create a colormap with 2 colors\n"
     ]
    },
    {
     "data": {
      "image/png": "[encoded data removed]",
      "text/plain": [
       "<Figure size 1800x1000 with 2 Axes>"
      ]
     },
     "metadata": {},
     "output_type": "display_data"
    }
   ],
   "source": [
    "# Convert the 'X' and 'Y' coordinates from the telemetry DataFrame into numpy arrays\n",
    "x = np.array(telemetry['X'].values)  # Extract X coordinates from telemetry DataFrame\n",
    "y = np.array(telemetry['Y'].values)  # Extract Y coordinates from telemetry DataFrame\n",
    "\n",
    "# Combine the x and y arrays into a 2D array of points and reshape it\n",
    "# The reshape operation prepares the data for creating line segments\n",
    "# each element i of points will be of the form array([[x_i,y_i]])\n",
    "points = np.array([x, y]).T.reshape(-1, 1, 2)  # Shape: (n_points, 1, 2) for each point\n",
    "\n",
    "# Create line segments by combining each point with the next point\n",
    "# This helps in visualizing the path as a series of connected segments\n",
    "# each element i in segment will be of the form array([array([x_i,y_i]), array([x_i+1,y_i+1])])\n",
    "segments = np.concatenate([points[:-1], points[1:]], axis=1)  # Shape: (n_segments, 2, 2)\n",
    "\n",
    "# Convert the 'Fastest_driver_int' column to a float numpy array\n",
    "# This array will be used to color the segments based on the fastest driver\n",
    "fastest_driver_array = telemetry['Fastest_driver_int'].to_numpy().astype(float)\n",
    "\n",
    "# Create a colormap with 2 distinct colors using the 'winter' colormap\n",
    "cmap = cm.get_cmap('winter', 2)  # Create a colormap with 2 colors\n",
    "\n",
    "# Create a LineCollection from the segments, normalizing the color mapping based on the fastest driver\n",
    "lc_comp = LineCollection(segments, norm=plt.Normalize(1, cmap.N + 1), cmap=cmap)\n",
    "\n",
    "# Set the color array for the LineCollection based on the fastest driver data\n",
    "lc_comp.set_array(fastest_driver_array)  # Assign colors to each segment based on driver\n",
    "\n",
    "# Set the width of the lines in the LineCollection\n",
    "lc_comp.set_linewidth(5)  # Make lines thicker for better visibility\n",
    "\n",
    "# Set the figure size for the plot\n",
    "plt.rcParams['figure.figsize'] = [18, 10]  # Define the dimensions of the plot\n",
    "\n",
    "# Add the LineCollection to the current axes\n",
    "plt.gca().add_collection(lc_comp)  # Add the line segments to the plot\n",
    "\n",
    "# Set the aspect of the plot to be equal for proper scaling\n",
    "plt.axis('equal')  # Ensure that the scaling is equal on both axes\n",
    "\n",
    "# Hide the tick marks and labels on the left and bottom axes for a cleaner look\n",
    "plt.tick_params(labelleft=False, left=False, labelbottom=False, bottom=False)\n",
    "\n",
    "# Create a colorbar to indicate which colors correspond to which drivers\n",
    "cbar = plt.colorbar(mappable=lc_comp, boundaries=np.arange(1, 4))\n",
    "\n",
    "# Set the ticks and labels for the colorbar, assuming only 2 drivers\n",
    "cbar.set_ticks([1, 2])  # Set ticks for 'VER' and 'HAM'\n",
    "cbar.set_ticklabels(['VER', 'HAM'])  # Corresponding labels for the ticks\n",
    "\n",
    "# Save the plot as a PNG file with a specified DPI for quality\n",
    "plt.savefig(f\"2021_ver_ham_q.png\", dpi=300)  # Save the plot as an image file\n",
    "\n",
    "# Display the plot\n",
    "plt.show()  # Show the generated plot to the user\n"
   ]
  },
  {
   "cell_type": "code",
   "execution_count": null,
   "metadata": {},
   "outputs": [],
   "source": []
  }
 ],
 "metadata": {
  "kernelspec": {
   "display_name": "base",
   "language": "python",
   "name": "python3"
  },
  "language_info": {
   "codemirror_mode": {
    "name": "ipython",
    "version": 3
   },
   "file_extension": ".py",
   "mimetype": "text/x-python",
   "name": "python",
   "nbconvert_exporter": "python",
   "pygments_lexer": "ipython3",
   "version": "3.11.7"
  }
 },
 "nbformat": 4,
 "nbformat_minor": 2
}
